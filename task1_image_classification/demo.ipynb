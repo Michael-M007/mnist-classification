{
 "cells": [
  {
   "cell_type": "markdown",
   "metadata": {},
   "source": [
    "# MNIST Classification: Demo Notebook\n",
    "1. **Random Forest (RF)** - Traditional machine learning model.\n",
    "2. **Feed-Forward Neural Network (NN)** - A simple neural network.\n",
    "3. **Convolutional Neural Network (CNN)** - Designed for image processing.\n",
    "Goals:\n",
    "1. Load and preprocess the MNIST dataset  \n",
    "2. Train and evaluate each model  \n",
    "3. Compare performance metrics  \n",
    "4. Test models with edge cases (e.g., noisy, rotated images)  \n"
   ]
  },
  {
   "cell_type": "code",
   "execution_count": 9,
   "metadata": {},
   "outputs": [],
   "source": [
    "import numpy as np\n",
    "import matplotlib.pyplot as plt\n",
    "import seaborn as sns"
   ]
  },
  {
   "cell_type": "code",
   "execution_count": 10,
   "metadata": {},
   "outputs": [],
   "source": [
    "import torch\n",
    "import torch.nn as nn\n",
    "import torch.optim as optim\n",
    "from torchvision import datasets, transforms\n",
    "from sklearn.ensemble import RandomForestClassifier\n",
    "from sklearn.metrics import accuracy_score, confusion_matrix"
   ]
  },
  {
   "cell_type": "code",
   "execution_count": 11,
   "metadata": {},
   "outputs": [],
   "source": [
    "from mnist_classifier import MnistClassifier\n"
   ]
  },
  {
   "cell_type": "markdown",
   "metadata": {},
   "source": [
    "Used libraries:\n",
    "- `numpy`, `matplotlib`, `seaborn` - Data handling and visualization\n",
    "- `torch`, `torchvision` - Deep learning models (NN and CNN)\n",
    "- `sklearn.ensemble.RandomForestClassifier` - Random Forest model\n",
    "- `sklearn.metrics.accuracy_score` - Accuracy evaluation\n",
    "- `MnistClassifier` - custom model wrapper"
   ]
  },
  {
   "cell_type": "markdown",
   "metadata": {},
   "source": [
    "Before training the models, some requirement must be met:\n",
    "1. Loading the MNIST dataset.\n",
    "2. Normalizing pixel values (0 to 1 range).\n",
    "3. Flattening images (for Random Forest).\n",
    "4. Converting data into PyTorch tensors (for NN and CNN).\n"
   ]
  },
  {
   "cell_type": "code",
   "execution_count": 12,
   "metadata": {},
   "outputs": [
    {
     "name": "stderr",
     "output_type": "stream",
     "text": [
      "100.0%\n",
      "100.0%\n",
      "100.0%\n",
      "100.0%\n"
     ]
    }
   ],
   "source": [
    "transform = transforms.Compose([transforms.ToTensor(), transforms.Normalize((0.5,), (0.5,))])\n",
    "train_data = datasets.MNIST(root='./data', train=True, transform=transform, download=True)\n",
    "test_data = datasets.MNIST(root='./data', train=False, transform=transform, download=True)"
   ]
  },
  {
   "cell_type": "code",
   "execution_count": 13,
   "metadata": {},
   "outputs": [
    {
     "ename": "SyntaxError",
     "evalue": "incomplete input (1197704416.py, line 4)",
     "output_type": "error",
     "traceback": [
      "\u001b[1;36m  Cell \u001b[1;32mIn[13], line 4\u001b[1;36m\u001b[0m\n\u001b[1;33m    y_test = test_data.targets.numpy(\u001b[0m\n\u001b[1;37m                                     ^\u001b[0m\n\u001b[1;31mSyntaxError\u001b[0m\u001b[1;31m:\u001b[0m incomplete input\n"
     ]
    }
   ],
   "source": [
    "X_train = train_data.data.numpy().reshape(len(train_data), -1) / 255.0\n",
    "y_train = train_data.targets.numpy()\n",
    "X_test = test_data.data.numpy().reshape(len(test_data), -1) / 255.0\n",
    "y_test = test_data.targets.numpy("
   ]
  },
  {
   "cell_type": "code",
   "execution_count": null,
   "metadata": {},
   "outputs": [],
   "source": [
    "train_loader = torch.utils.data.DataLoader(train_data, batch_size=64, shuffle=True)\n",
    "test_loader = torch.utils.data.DataLoader(test_data, batch_size=64, shuffle=False)"
   ]
  },
  {
   "cell_type": "code",
   "execution_count": null,
   "metadata": {},
   "outputs": [],
   "source": [
    "plt.imshow(train_data.data[0], cmap='gray')\n",
    "plt.title(f\"Label: {train_data.targets[0]}\")\n",
    "plt.show()"
   ]
  },
  {
   "cell_type": "markdown",
   "metadata": {},
   "source": [
    "We train Random Forest on flattened MNIST images and evaluate its accuracy on test data."
   ]
  },
  {
   "cell_type": "code",
   "execution_count": null,
   "metadata": {},
   "outputs": [],
   "source": [
    "rf_classifier = MnistClassifier(\"rf\")\n",
    "rf_classifier.train(X_train, y_train)\n",
    "\n",
    "y_pred_rf = rf_classifier.predict(X_test)\n",
    "print(\"Random Forest Accuracy:\", accuracy_score(y_test, y_pred_rf))\n"
   ]
  },
  {
   "cell_type": "code",
   "execution_count": null,
   "metadata": {},
   "outputs": [],
   "source": [
    "nn_classifier = MnistClassifier(\"nn\")\n",
    "nn_classifier.train(train_loader)\n",
    "y_pred_nn = nn_classifier.predict(test_loader)\n",
    "print(\"Feed-Forward NN Accuracy:\", accuracy_score(y_test, y_pred_nn))"
   ]
  },
  {
   "cell_type": "markdown",
   "metadata": {},
   "source": [
    "we train CNN on raw MNIST images and compare its performance to RF and NN."
   ]
  },
  {
   "cell_type": "code",
   "execution_count": null,
   "metadata": {},
   "outputs": [],
   "source": [
    "cnn_classifier = MnistClassifier(\"cnn\")\n",
    "cnn_classifier.train(train_loader)\n",
    "y_pred_cnn = cnn_classifier.predict(test_loader)\n",
    "print(\"CNN Accuracy:\", accuracy_score(y_test, y_pred_cnn))"
   ]
  },
  {
   "cell_type": "markdown",
   "metadata": {},
   "source": [
    "# Evaluating Edge Cases to see how models generalize to unseen variations\n",
    "1. **Noisy images** - Blurred or corrupted digits.\n",
    "2. **Rotated images** - Handwritten digits tilted at different angles.\n",
    "3. **Partially erased digits** - Incomplete numbers."
   ]
  },
  {
   "cell_type": "code",
   "execution_count": null,
   "metadata": {},
   "outputs": [],
   "source": [
    "import cv2\n",
    "def add_noise(image):\n",
    "    noise = np.random.normal(0, 0.3, image.shape)\n",
    "    return np.clip(image + noise, 0, 1)\n",
    "original_img = test_data.data[1].numpy() / 255.0\n",
    "noisy_img = add_noise(original_img)\n",
    "\n",
    "plt.subplot(1, 2, 1)\n",
    "plt.imshow(original_img, cmap='gray')\n",
    "plt.title(\"Original\")\n",
    "\n",
    "plt.subplot(1, 2, 2)\n",
    "plt.imshow(noisy_img, cmap='gray')\n",
    "plt.title(\"Noisy\")\n",
    "\n",
    "plt.show()\n"
   ]
  },
  {
   "cell_type": "markdown",
   "metadata": {},
   "source": [
    "# Conclusion\n",
    "1. Random Forest is fast but less effective on images.\n",
    "2. Feed-Forward NN performs well but struggles with spatial information.\n",
    "3. CNN achieves the best accuracy as it captures spatial patterns effectively.\n"
   ]
  }
 ],
 "metadata": {
  "kernelspec": {
   "display_name": "Python 3 (ipykernel)",
   "language": "python",
   "name": "python3"
  },
  "language_info": {
   "codemirror_mode": {
    "name": "ipython",
    "version": 3
   },
   "file_extension": ".py",
   "mimetype": "text/x-python",
   "name": "python",
   "nbconvert_exporter": "python",
   "pygments_lexer": "ipython3",
   "version": "3.12.9"
  }
 },
 "nbformat": 4,
 "nbformat_minor": 4
}
